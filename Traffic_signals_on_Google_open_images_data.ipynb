{
  "nbformat": 4,
  "nbformat_minor": 0,
  "metadata": {
    "colab": {
      "name": "Traffic signals on Google open images data.ipynb",
      "provenance": []
    },
    "kernelspec": {
      "name": "python3",
      "display_name": "Python 3"
    },
    "language_info": {
      "name": "python"
    },
    "accelerator": "GPU"
  },
  "cells": [
    {
      "cell_type": "code",
      "execution_count": 1,
      "metadata": {
        "colab": {
          "base_uri": "https://localhost:8080/"
        },
        "id": "W7Bs0QXZT7Gd",
        "outputId": "c2a6209d-f744-45e6-df3f-52245bc99a8e"
      },
      "outputs": [
        {
          "output_type": "stream",
          "name": "stdout",
          "text": [
            "Drive already mounted at /content/drive; to attempt to forcibly remount, call drive.mount(\"/content/drive\", force_remount=True).\n"
          ]
        }
      ],
      "source": [
        "# Linking the Google drive to the Colab to access the data\n",
        "\n",
        "from google.colab import drive\n",
        "drive.mount('/content/drive')"
      ]
    },
    {
      "cell_type": "code",
      "source": [
        "# Importing neccessary libraries to perform the image processing\n",
        "\n",
        "import keras\n",
        "import tensorflow\n",
        "\n",
        "from keras.preprocessing.image import ImageDataGenerator"
      ],
      "metadata": {
        "id": "kFdirUk9UNzn"
      },
      "execution_count": 2,
      "outputs": []
    },
    {
      "cell_type": "code",
      "source": [
        "# Training the data and rescaleing the data to run ImageDataGenerator\n",
        "\n",
        "X_train = ImageDataGenerator(rescale=1/255,horizontal_flip=True,zoom_range=0.2,shear_range=0.2)"
      ],
      "metadata": {
        "id": "T_P6NHd_Uwrq"
      },
      "execution_count": 3,
      "outputs": []
    },
    {
      "cell_type": "code",
      "source": [
        "# Downloaded data from Google open images which has 2 classes\n",
        "# Downloaded data is stored in the Google drive and accessing it using the import drive\n",
        "\n",
        "# \"/content/drive/MyDrive/trafficimg\" \n",
        "# \"/content/drive/MyDrive/traffic signals\" \n",
        "\n",
        "\n",
        "X_train=X_train.flow_from_directory(directory=\"/content/drive/MyDrive/archive\", target_size=(64,64), batch_size=45, class_mode='binary')\n"
      ],
      "metadata": {
        "colab": {
          "base_uri": "https://localhost:8080/"
        },
        "id": "DnbAgz_OVU2E",
        "outputId": "b665b615-b99c-4fb1-cf21-2307594909c1"
      },
      "execution_count": 4,
      "outputs": [
        {
          "output_type": "stream",
          "name": "stdout",
          "text": [
            "Found 3000 images belonging to 2 classes.\n"
          ]
        }
      ]
    },
    {
      "cell_type": "code",
      "source": [
        "# Importing the keras model and layers to run the CNN on the train data\n",
        "\n",
        "\n",
        "# Importing sequnetial\n",
        "from keras.models import Sequential\n",
        "\n",
        "# Importing pooling layers\n",
        "from keras.layers import Conv2D,MaxPool2D,BatchNormalization\n",
        "\n",
        "from keras.layers import Dense,Dropout,Flatten,Activation"
      ],
      "metadata": {
        "id": "ZzTPrYXPWdFp"
      },
      "execution_count": 5,
      "outputs": []
    },
    {
      "cell_type": "code",
      "source": [
        "# Implementing CNN model\n",
        "\n",
        "cnn=Sequential()\n",
        "cnn.add(Conv2D(32,(3,3),activation='relu',input_shape=(64,64,3),padding='same'))\n",
        "cnn.add(BatchNormalization())\n",
        "cnn.add(MaxPool2D(pool_size=(2,2)))\n",
        "cnn.add(Dropout(0.2))\n",
        "cnn.add(Flatten())\n",
        "cnn.add(Dense(64,activation='relu'))\n",
        "cnn.add(Dropout(0.30))\n",
        "cnn.add(Dense(1,activation='sigmoid'))\n",
        "cnn.compile(optimizer='adam',loss='binary_crossentropy',metrics=['accuracy'])\n",
        "cnn.summary()"
      ],
      "metadata": {
        "colab": {
          "base_uri": "https://localhost:8080/"
        },
        "id": "vFmw9yeiXt6T",
        "outputId": "3a3b909b-121d-4a78-c3b8-62a8acd35f76"
      },
      "execution_count": 6,
      "outputs": [
        {
          "output_type": "stream",
          "name": "stdout",
          "text": [
            "Model: \"sequential\"\n",
            "_________________________________________________________________\n",
            " Layer (type)                Output Shape              Param #   \n",
            "=================================================================\n",
            " conv2d (Conv2D)             (None, 64, 64, 32)        896       \n",
            "                                                                 \n",
            " batch_normalization (BatchN  (None, 64, 64, 32)       128       \n",
            " ormalization)                                                   \n",
            "                                                                 \n",
            " max_pooling2d (MaxPooling2D  (None, 32, 32, 32)       0         \n",
            " )                                                               \n",
            "                                                                 \n",
            " dropout (Dropout)           (None, 32, 32, 32)        0         \n",
            "                                                                 \n",
            " flatten (Flatten)           (None, 32768)             0         \n",
            "                                                                 \n",
            " dense (Dense)               (None, 64)                2097216   \n",
            "                                                                 \n",
            " dropout_1 (Dropout)         (None, 64)                0         \n",
            "                                                                 \n",
            " dense_1 (Dense)             (None, 1)                 65        \n",
            "                                                                 \n",
            "=================================================================\n",
            "Total params: 2,098,305\n",
            "Trainable params: 2,098,241\n",
            "Non-trainable params: 64\n",
            "_________________________________________________________________\n"
          ]
        }
      ]
    },
    {
      "cell_type": "code",
      "source": [
        "cnn.fit(X_train,epochs=10, batch_size= 45)"
      ],
      "metadata": {
        "colab": {
          "base_uri": "https://localhost:8080/"
        },
        "id": "x708CkmIZawo",
        "outputId": "58763749-49a2-4a80-94d1-b5b5f075fa20"
      },
      "execution_count": 7,
      "outputs": [
        {
          "output_type": "stream",
          "name": "stdout",
          "text": [
            "Epoch 1/10\n",
            "67/67 [==============================] - 192s 3s/step - loss: 0.8670 - accuracy: 0.8460\n",
            "Epoch 2/10\n",
            "67/67 [==============================] - 188s 3s/step - loss: 0.4407 - accuracy: 0.8667\n",
            "Epoch 3/10\n",
            "67/67 [==============================] - 190s 3s/step - loss: 0.4236 - accuracy: 0.8667\n",
            "Epoch 4/10\n",
            "67/67 [==============================] - 175s 3s/step - loss: 0.4155 - accuracy: 0.8663\n",
            "Epoch 5/10\n",
            "67/67 [==============================] - 174s 3s/step - loss: 0.4133 - accuracy: 0.8667\n",
            "Epoch 6/10\n",
            "67/67 [==============================] - 174s 3s/step - loss: 0.4142 - accuracy: 0.8667\n",
            "Epoch 7/10\n",
            "67/67 [==============================] - 174s 3s/step - loss: 0.4062 - accuracy: 0.8663\n",
            "Epoch 8/10\n",
            "67/67 [==============================] - 174s 3s/step - loss: 0.4041 - accuracy: 0.8663\n",
            "Epoch 9/10\n",
            "67/67 [==============================] - 172s 3s/step - loss: 0.4025 - accuracy: 0.8670\n",
            "Epoch 10/10\n",
            "67/67 [==============================] - 176s 3s/step - loss: 0.3974 - accuracy: 0.8667\n"
          ]
        },
        {
          "output_type": "execute_result",
          "data": {
            "text/plain": [
              "<keras.callbacks.History at 0x7f3621bcf190>"
            ]
          },
          "metadata": {},
          "execution_count": 7
        }
      ]
    },
    {
      "cell_type": "code",
      "source": [
        "# Implemented \"softmax\" but the problem of overfitting occuring which is the reason \"sigmoid\" is implemeted which shows accuracy of \n",
        "\n",
        "# Also downloaded images from online folder name \"trafficsignals\" in the Drive it had under fitting occurance because of low number of images.\n",
        "\n",
        "# Found 1008 images on COCO images site but accuracy was low when performed CNN on it. Folder Name \"trafficimg\" in google drive.\n",
        "\n",
        "# Note - Commented the Three Datasets in the 4th Row the best fit for the CNN with good accuracy was given by google open images data as shown."
      ],
      "metadata": {
        "id": "DhTe9kyJjuuh"
      },
      "execution_count": 8,
      "outputs": []
    }
  ]
}